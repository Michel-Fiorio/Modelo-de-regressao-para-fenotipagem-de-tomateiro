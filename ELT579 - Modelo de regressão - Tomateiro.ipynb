{
 "cells": [
  {
   "cell_type": "markdown",
   "id": "27d8ab14-d93e-4277-b003-d5a7a25dd19a",
   "metadata": {
    "tags": []
   },
   "source": [
    "<center>Universidade Federal de Viçosa</center>\n",
    "<center>Inteligência Artificial e Computacional</center>\n",
    "<center>ELT579 - Tópicos Especiais em Inteligência Artificial</center>\n",
    "<center>TURMA 2022/2</center>\n",
    "\n",
    "**<center>Semana 2: Fenotipagem de tomateiro </center>**\n",
    "<center>Aluno: Michel Batistin Fiorio</center>"
   ]
  },
  {
   "cell_type": "markdown",
   "id": "268e7d38-9629-4187-a58d-f6f1f522a4f1",
   "metadata": {},
   "source": [
    "**Objetivo:**\n",
    "\n",
    "Nesta atividade temos a disposição um banco de dados de fenotipagem de tomateiro. Temos também um arquivo com o algoritmo onde foi desenvolvido um modelo de regressão para predição da severidade da doença 'Requeima' em plantas de tomate a partir de informações retiradas de imagens aéreas das plantas.\n",
    "\n",
    "O modelo criado em aula foi uma regressão linear. Após realizada a otimização do modelo através do processo de redução de 'features' por eliminação recursiva, os resultados finais do modelo quando aplicado os dados de teste seguem abaixo:\n",
    "\n",
    "RMSE 7.539476072281645\n",
    "\n",
    "MAE 6.344066348951253\n",
    "\n",
    "R2 0.8876342778703067\n",
    "\n",
    "O objetivo dessa atividade é realizarmos melhorias no algoritmo fornecido, na tentativa de obter melhores resultados de predição."
   ]
  },
  {
   "cell_type": "markdown",
   "id": "366bc43b-f0f3-4d4d-b03c-375f378e4407",
   "metadata": {},
   "source": [
    "**Metodologia**\n",
    "\n",
    "Uma vez que temos o modelo de regressão linear como nossa referência, nossa metodologia consistirá em criar outros modelos lineares e otimizá-los. \n",
    "Apresentaremos os seguintes modelos:\n",
    "\n",
    "- Máquina de vetor de suporte (Support Vector Regressor);\n",
    "- K-vizinhos mais próximos (K-Neighbors Regressor);\n",
    "- Árvore de regressão (Random Forest Regressor);\n",
    "- Gradiente descendente estocástico (Stochastic Gradient Descent)\n",
    "\n",
    "Técnicas de otimização utilizadas:\n",
    "\n",
    "- Redução de features por eliminação recursiva;\n",
    "- Redução de features por testes estatísticos (correlação cruzada);\n",
    "- Otimização de hiperparâmetros através da redução da pontuação em teste de validação cruzada do modelo."
   ]
  },
  {
   "cell_type": "markdown",
   "id": "8fe380b4-db82-4379-96aa-1966915d5988",
   "metadata": {},
   "source": [
    "**Desenvolvimento**"
   ]
  },
  {
   "cell_type": "markdown",
   "id": "fc269ca3-56d4-4804-aff2-3cca11e69a43",
   "metadata": {
    "tags": []
   },
   "source": [
    "### Importação das bibliotecas e configuração do banco de dados\n",
    "\n",
    "Ocultaremos as células para otimização do relatório.\n",
    "\n",
    "Como resultado do carregamento, configuração, divisão e padronização do banco de dados, temos como variáveis resultantes desse código:\n",
    "\n",
    "- *X_train_sc* e *y_train*: banco de dados de treinamento. Composto por 20 features e 105 amostras.\n",
    "- *X_test_sc* e *y_test*: banco de dados de teste. Composto por 20 features e 27 amostras."
   ]
  },
  {
   "cell_type": "code",
   "execution_count": 1,
   "id": "f0408546",
   "metadata": {
    "jupyter": {
     "source_hidden": true
    },
    "tags": []
   },
   "outputs": [],
   "source": [
    "# Importando bibliotecas necessárias\n",
    "\n",
    "import pandas as pd\n",
    "import numpy as np\n",
    "import matplotlib.pyplot as plt\n",
    "from sklearn.model_selection import train_test_split\n",
    "from sklearn.preprocessing import StandardScaler\n",
    "from sklearn.model_selection import cross_val_score\n",
    "from sklearn.linear_model import LinearRegression\n",
    "from sklearn.feature_selection import RFE\n",
    "from sklearn.metrics import mean_squared_error\n",
    "from sklearn.metrics import mean_absolute_error\n",
    "from sklearn.svm import SVR\n",
    "from sklearn.neighbors import KNeighborsRegressor\n",
    "from sklearn.ensemble import RandomForestRegressor\n",
    "from sklearn.feature_selection import SelectKBest\n",
    "from sklearn.feature_selection import f_regression\n",
    "from sklearn.linear_model import SGDRegressor\n",
    "from skopt import gp_minimize"
   ]
  },
  {
   "cell_type": "code",
   "execution_count": 2,
   "id": "dae9cae2",
   "metadata": {
    "jupyter": {
     "source_hidden": true
    },
    "tags": []
   },
   "outputs": [],
   "source": [
    "# Importando o dataset\n",
    "\n",
    "df = pd.read_csv('dataset_problema2.csv')\n",
    "\n",
    "# Separando dados de entrada e saída\n",
    "\n",
    "X = df.drop(['id', 'Severidade'], axis = 1)\n",
    "y = df['Severidade']"
   ]
  },
  {
   "cell_type": "code",
   "execution_count": 3,
   "id": "4ad76e7b",
   "metadata": {
    "jupyter": {
     "source_hidden": true
    },
    "tags": []
   },
   "outputs": [],
   "source": [
    "# Separar dados de treinamento e teste\n",
    "\n",
    "X_train, X_test, y_train, y_test = train_test_split(X, y, test_size = 0.2, random_state = 0)"
   ]
  },
  {
   "cell_type": "code",
   "execution_count": 4,
   "id": "a1946d92",
   "metadata": {
    "jupyter": {
     "source_hidden": true
    },
    "tags": []
   },
   "outputs": [],
   "source": [
    "# Padronização das variáveis\n",
    "\n",
    "scaler = StandardScaler() #media 0 e desvio padrão 1\n",
    "\n",
    "X_train_sc = scaler.fit_transform(X_train)\n",
    "X_test_sc = scaler.transform(X_test)"
   ]
  },
  {
   "cell_type": "code",
   "execution_count": 5,
   "id": "f1f5ce97",
   "metadata": {
    "jupyter": {
     "source_hidden": true
    },
    "tags": []
   },
   "outputs": [],
   "source": [
    "# Transformando dados do formato array para data frame\n",
    "X_train_sc = pd.DataFrame(X_train_sc)\n",
    "X_train_sc.columns = X_train.columns\n",
    "\n",
    "X_test_sc = pd.DataFrame(X_test_sc)\n",
    "X_test_sc.columns = X_train.columns"
   ]
  },
  {
   "cell_type": "markdown",
   "id": "cddefa9a",
   "metadata": {
    "tags": []
   },
   "source": [
    "### Modelo Linear Regression\n",
    "\n",
    "Ocultaremos as células para otimização do relatório.\n",
    "\n",
    "- Total de features utilizadas: 10\n",
    "\n",
    "- Métricas finais no banco de dados de teste:\n",
    "\n",
    "    RMSE: 7.539476072281645\n",
    "\n",
    "    MAE: 6.344066348951253\n",
    "\n",
    "    R2: 0.8876342778703067"
   ]
  },
  {
   "cell_type": "code",
   "execution_count": 6,
   "id": "91d89c4a",
   "metadata": {
    "collapsed": true,
    "jupyter": {
     "outputs_hidden": true,
     "source_hidden": true
    },
    "tags": []
   },
   "outputs": [
    {
     "name": "stdout",
     "output_type": "stream",
     "text": [
      "0.8417215821015457\n"
     ]
    }
   ],
   "source": [
    "# Criação do modelo Linear Regression.\n",
    "\n",
    "modelo_linear = LinearRegression()\n",
    "\n",
    "# Métrica na validação cruzada com todas as features\n",
    "\n",
    "score = cross_val_score(modelo_linear, X_train_sc, y_train, cv = 10)\n",
    "\n",
    "print(np.mean(score))"
   ]
  },
  {
   "cell_type": "code",
   "execution_count": 7,
   "id": "10cf90f1",
   "metadata": {
    "collapsed": true,
    "jupyter": {
     "outputs_hidden": true,
     "source_hidden": true
    },
    "tags": []
   },
   "outputs": [
    {
     "name": "stdout",
     "output_type": "stream",
     "text": [
      "Raiz do erro quadrático médio com 1 features: 22.999512866756277\n",
      "Raiz do erro quadrático médio com 2 features: 20.978943999479593\n",
      "Raiz do erro quadrático médio com 3 features: 12.213396211503518\n",
      "Raiz do erro quadrático médio com 4 features: 11.313324687675097\n",
      "Raiz do erro quadrático médio com 5 features: 8.638765107367252\n",
      "Raiz do erro quadrático médio com 6 features: 8.673068527522164\n",
      "Raiz do erro quadrático médio com 7 features: 8.758615941206587\n",
      "Raiz do erro quadrático médio com 8 features: 8.882267359101977\n",
      "Raiz do erro quadrático médio com 9 features: 7.6108000203906485\n",
      "Raiz do erro quadrático médio com 10 features: 7.501372965771357\n",
      "Raiz do erro quadrático médio com 11 features: 7.698979572979539\n",
      "Raiz do erro quadrático médio com 12 features: 7.651101456136852\n",
      "Raiz do erro quadrático médio com 13 features: 7.65535729186297\n",
      "Raiz do erro quadrático médio com 14 features: 7.786765054041213\n",
      "Raiz do erro quadrático médio com 15 features: 7.8650918758682575\n",
      "Raiz do erro quadrático médio com 16 features: 7.954618243219336\n",
      "Raiz do erro quadrático médio com 17 features: 8.051802922421375\n",
      "Raiz do erro quadrático médio com 18 features: 8.087998611982167\n",
      "Raiz do erro quadrático médio com 19 features: 8.197654755125864\n",
      "Raiz do erro quadrático médio com 20 features: 8.252242790552128\n"
     ]
    },
    {
     "data": {
      "image/png": "[encoded data removed]",
      "text/plain": [
       "<Figure size 640x480 with 1 Axes>"
      ]
     },
     "metadata": {},
     "output_type": "display_data"
    }
   ],
   "source": [
    "# Otimização do modelo com redução de features.\n",
    "\n",
    "max_f = 20\n",
    "lista_r2 = list()\n",
    "\n",
    "for i in range(1, max_f+1):\n",
    "  \n",
    "  selector = RFE(modelo_linear, n_features_to_select=i, step=1)\n",
    "  \n",
    "  selector = selector.fit(X_train_sc, y_train)\n",
    "  \n",
    "  mask = selector.support_\n",
    "  \n",
    "  features = X_train_sc.columns\n",
    "  \n",
    "  sel_features = features[mask]\n",
    "\n",
    "  X_sel = X_train_sc[sel_features]\n",
    "  \n",
    "  score = cross_val_score(modelo_linear, X_sel, y_train, cv = 10, scoring = 'neg_root_mean_squared_error')\n",
    "  \n",
    "  lista_r2.append(np.abs(np.mean(score)))\n",
    "  \n",
    "  print('Raiz do erro quadrático médio com', i, 'features:', np.abs(np.mean(score)))\n",
    "\n",
    "# Desenhando o gráfico\n",
    "\n",
    "plt.plot(lista_r2)\n",
    "\n",
    "plt.show()"
   ]
  },
  {
   "cell_type": "code",
   "execution_count": 8,
   "id": "16f9739c",
   "metadata": {
    "collapsed": true,
    "jupyter": {
     "outputs_hidden": true,
     "source_hidden": true
    },
    "scrolled": true,
    "tags": []
   },
   "outputs": [
    {
     "name": "stdout",
     "output_type": "stream",
     "text": [
      "Features escolhidas: Index(['NDVI_d28', 'SAVI_d28', 'NDVI_d01', 'SAVI_d01', 'NDVI_d04', 'SAVI_d04',\n",
      "       'NDVI_d08', 'SAVI_d08', 'GNDVI_d08', 'SR_d08'],\n",
      "      dtype='object')\n"
     ]
    }
   ],
   "source": [
    "# Selecionar as 10 melhores features\n",
    "\n",
    "selector = RFE(modelo_linear, n_features_to_select = 10, step=1)\n",
    "\n",
    "# Ajuste do modelo\n",
    "selector = selector.fit(X_train_sc, y_train)\n",
    "\n",
    "# Obter a posição das features escolhidas\n",
    "mask = selector.support_\n",
    "\n",
    "# Obter o nome das features escolhidas\n",
    "features = X_train_sc.columns\n",
    "sel_features = features[mask]\n",
    "print('Features escolhidas:', sel_features)"
   ]
  },
  {
   "cell_type": "code",
   "execution_count": 9,
   "id": "88968521",
   "metadata": {
    "collapsed": true,
    "jupyter": {
     "outputs_hidden": true,
     "source_hidden": true
    },
    "tags": []
   },
   "outputs": [
    {
     "name": "stdout",
     "output_type": "stream",
     "text": [
      "0.8655536026355246\n"
     ]
    }
   ],
   "source": [
    "# Medindo a qualidade do modelo final escolhido (10 features) com validação cruzada\n",
    "\n",
    "X_sel = X_train_sc[sel_features]\n",
    "score = cross_val_score(modelo_linear, X_sel, y_train, cv = 10, scoring = 'r2')\n",
    "print(np.mean(score))"
   ]
  },
  {
   "cell_type": "code",
   "execution_count": 10,
   "id": "ae87dfa8",
   "metadata": {
    "collapsed": true,
    "jupyter": {
     "outputs_hidden": true,
     "source_hidden": true
    },
    "scrolled": true,
    "tags": []
   },
   "outputs": [
    {
     "data": {
      "text/html": [
       "<style>#sk-container-id-1 {color: black;background-color: white;}#sk-container-id-1 pre{padding: 0;}#sk-container-id-1 div.sk-toggleable {background-color: white;}#sk-container-id-1 label.sk-toggleable__label {cursor: pointer;display: block;width: 100%;margin-bottom: 0;padding: 0.3em;box-sizing: border-box;text-align: center;}#sk-container-id-1 label.sk-toggleable__label-arrow:before {content: \"▸\";float: left;margin-right: 0.25em;color: #696969;}#sk-container-id-1 label.sk-toggleable__label-arrow:hover:before {color: black;}#sk-container-id-1 div.sk-estimator:hover label.sk-toggleable__label-arrow:before {color: black;}#sk-container-id-1 div.sk-toggleable__content {max-height: 0;max-width: 0;overflow: hidden;text-align: left;background-color: #f0f8ff;}#sk-container-id-1 div.sk-toggleable__content pre {margin: 0.2em;color: black;border-radius: 0.25em;background-color: #f0f8ff;}#sk-container-id-1 input.sk-toggleable__control:checked~div.sk-toggleable__content {max-height: 200px;max-width: 100%;overflow: auto;}#sk-container-id-1 input.sk-toggleable__control:checked~label.sk-toggleable__label-arrow:before {content: \"▾\";}#sk-container-id-1 div.sk-estimator input.sk-toggleable__control:checked~label.sk-toggleable__label {background-color: #d4ebff;}#sk-container-id-1 div.sk-label input.sk-toggleable__control:checked~label.sk-toggleable__label {background-color: #d4ebff;}#sk-container-id-1 input.sk-hidden--visually {border: 0;clip: rect(1px 1px 1px 1px);clip: rect(1px, 1px, 1px, 1px);height: 1px;margin: -1px;overflow: hidden;padding: 0;position: absolute;width: 1px;}#sk-container-id-1 div.sk-estimator {font-family: monospace;background-color: #f0f8ff;border: 1px dotted black;border-radius: 0.25em;box-sizing: border-box;margin-bottom: 0.5em;}#sk-container-id-1 div.sk-estimator:hover {background-color: #d4ebff;}#sk-container-id-1 div.sk-parallel-item::after {content: \"\";width: 100%;border-bottom: 1px solid gray;flex-grow: 1;}#sk-container-id-1 div.sk-label:hover label.sk-toggleable__label {background-color: #d4ebff;}#sk-container-id-1 div.sk-serial::before {content: \"\";position: absolute;border-left: 1px solid gray;box-sizing: border-box;top: 0;bottom: 0;left: 50%;z-index: 0;}#sk-container-id-1 div.sk-serial {display: flex;flex-direction: column;align-items: center;background-color: white;padding-right: 0.2em;padding-left: 0.2em;position: relative;}#sk-container-id-1 div.sk-item {position: relative;z-index: 1;}#sk-container-id-1 div.sk-parallel {display: flex;align-items: stretch;justify-content: center;background-color: white;position: relative;}#sk-container-id-1 div.sk-item::before, #sk-container-id-1 div.sk-parallel-item::before {content: \"\";position: absolute;border-left: 1px solid gray;box-sizing: border-box;top: 0;bottom: 0;left: 50%;z-index: -1;}#sk-container-id-1 div.sk-parallel-item {display: flex;flex-direction: column;z-index: 1;position: relative;background-color: white;}#sk-container-id-1 div.sk-parallel-item:first-child::after {align-self: flex-end;width: 50%;}#sk-container-id-1 div.sk-parallel-item:last-child::after {align-self: flex-start;width: 50%;}#sk-container-id-1 div.sk-parallel-item:only-child::after {width: 0;}#sk-container-id-1 div.sk-dashed-wrapped {border: 1px dashed gray;margin: 0 0.4em 0.5em 0.4em;box-sizing: border-box;padding-bottom: 0.4em;background-color: white;}#sk-container-id-1 div.sk-label label {font-family: monospace;font-weight: bold;display: inline-block;line-height: 1.2em;}#sk-container-id-1 div.sk-label-container {text-align: center;}#sk-container-id-1 div.sk-container {/* jupyter's `normalize.less` sets `[hidden] { display: none; }` but bootstrap.min.css set `[hidden] { display: none !important; }` so we also need the `!important` here to be able to override the default hidden behavior on the sphinx rendered scikit-learn.org. See: https://github.com/scikit-learn/scikit-learn/issues/21755 */display: inline-block !important;position: relative;}#sk-container-id-1 div.sk-text-repr-fallback {display: none;}</style><div id=\"sk-container-id-1\" class=\"sk-top-container\"><div class=\"sk-text-repr-fallback\"><pre>LinearRegression()</pre><b>In a Jupyter environment, please rerun this cell to show the HTML representation or trust the notebook. <br />On GitHub, the HTML representation is unable to render, please try loading this page with nbviewer.org.</b></div><div class=\"sk-container\" hidden><div class=\"sk-item\"><div class=\"sk-estimator sk-toggleable\"><input class=\"sk-toggleable__control sk-hidden--visually\" id=\"sk-estimator-id-1\" type=\"checkbox\" checked><label for=\"sk-estimator-id-1\" class=\"sk-toggleable__label sk-toggleable__label-arrow\">LinearRegression</label><div class=\"sk-toggleable__content\"><pre>LinearRegression()</pre></div></div></div></div></div>"
      ],
      "text/plain": [
       "LinearRegression()"
      ]
     },
     "execution_count": 10,
     "metadata": {},
     "output_type": "execute_result"
    }
   ],
   "source": [
    "# Realizando o fit do modelo nos dados de treino\n",
    "\n",
    "modelo_linear.fit(X_sel, y_train)"
   ]
  },
  {
   "cell_type": "code",
   "execution_count": 11,
   "id": "dba09ef7",
   "metadata": {
    "collapsed": true,
    "jupyter": {
     "outputs_hidden": true,
     "source_hidden": true
    },
    "tags": []
   },
   "outputs": [
    {
     "name": "stdout",
     "output_type": "stream",
     "text": [
      "RMSE 7.539476072281645\n",
      "MAE 6.344066348951253\n",
      "R2 0.8876342778703067\n"
     ]
    },
    {
     "data": {
      "image/png": "[encoded data removed]",
      "text/plain": [
       "<Figure size 640x480 with 1 Axes>"
      ]
     },
     "metadata": {},
     "output_type": "display_data"
    }
   ],
   "source": [
    "# Validação do modelo com dados de teste\n",
    "\n",
    "y_pred = modelo_linear.predict(X_test_sc[sel_features])\n",
    "\n",
    "# Score r2\n",
    "r2 = modelo_linear.score(X_test_sc[sel_features], y_test)\n",
    "\n",
    "# Raiz do erro médio quadratico\n",
    "rmse = (mean_squared_error(y_test, y_pred))**0.5\n",
    "\n",
    "# Erro médio absoluto\n",
    "mae = mean_absolute_error(y_test, y_pred)\n",
    "\n",
    "print(\"RMSE\", rmse)\n",
    "print(\"MAE\", mae)\n",
    "print(\"R2\", r2)\n",
    "\n",
    "\n",
    "plt.scatter(y_test, y_pred)\n",
    "\n",
    "plt.show()\n"
   ]
  },
  {
   "cell_type": "markdown",
   "id": "b422816f",
   "metadata": {
    "tags": []
   },
   "source": [
    "### Modelo SVM\n",
    "\n",
    "- Utilizado a função SVR da biblioteca sklearn.\n",
    "- Total de features utilizadas: 11\n",
    "- Hiperparâmetros ótimos:\n",
    "\n",
    "    kernel = 'linear'\n",
    "    \n",
    "    C = 0.7477685854264121\n",
    "    \n",
    "    epsilon = 0.2\n",
    "    \n",
    "- Métricas finais no banco de dados de teste:\n",
    "\n",
    "    RMSE: 7.549409799360181\n",
    "    \n",
    "    MAE: 6.316490162041271\n",
    "    \n",
    "    R2: 0.887337985198477"
   ]
  },
  {
   "cell_type": "code",
   "execution_count": 12,
   "id": "edee539b",
   "metadata": {},
   "outputs": [
    {
     "name": "stdout",
     "output_type": "stream",
     "text": [
      "0.8418575624521859\n"
     ]
    }
   ],
   "source": [
    "# Criação do modelo SVR.\n",
    "\n",
    "modelo_svr = SVR(kernel='linear')\n",
    "\n",
    "# Métrica na validação cruzada com todas as 20 features\n",
    "\n",
    "score = cross_val_score(modelo_svr, X_train_sc, y_train, cv = 10)\n",
    "\n",
    "print(np.mean(score))"
   ]
  },
  {
   "cell_type": "code",
   "execution_count": 13,
   "id": "8d4d5e5f",
   "metadata": {},
   "outputs": [
    {
     "name": "stdout",
     "output_type": "stream",
     "text": [
      "Raiz do erro quadrático médio com 1 features: 12.221629248870624\n",
      "Raiz do erro quadrático médio com 2 features: 9.361250510569322\n",
      "Raiz do erro quadrático médio com 3 features: 8.590474767720318\n",
      "Raiz do erro quadrático médio com 4 features: 8.100292905190596\n",
      "Raiz do erro quadrático médio com 5 features: 8.121443925350965\n",
      "Raiz do erro quadrático médio com 6 features: 7.927422971714151\n",
      "Raiz do erro quadrático médio com 7 features: 7.866770501412274\n",
      "Raiz do erro quadrático médio com 8 features: 7.8573921086750165\n",
      "Raiz do erro quadrático médio com 9 features: 7.878544169370767\n",
      "Raiz do erro quadrático médio com 10 features: 7.804848009470764\n",
      "Raiz do erro quadrático médio com 11 features: 7.701366834904137\n",
      "Raiz do erro quadrático médio com 12 features: 7.7762699289641946\n",
      "Raiz do erro quadrático médio com 13 features: 7.791143374165543\n",
      "Raiz do erro quadrático médio com 14 features: 7.852210908764515\n",
      "Raiz do erro quadrático médio com 15 features: 7.941314682760319\n",
      "Raiz do erro quadrático médio com 16 features: 7.911210324752119\n",
      "Raiz do erro quadrático médio com 17 features: 8.043686438478364\n",
      "Raiz do erro quadrático médio com 18 features: 8.072126178600666\n",
      "Raiz do erro quadrático médio com 19 features: 8.08993188159105\n",
      "Raiz do erro quadrático médio com 20 features: 8.102849459194493\n"
     ]
    },
    {
     "data": {
      "image/png": "[encoded data removed]",
      "text/plain": [
       "<Figure size 640x480 with 1 Axes>"
      ]
     },
     "metadata": {},
     "output_type": "display_data"
    }
   ],
   "source": [
    "# Otimização do modelo com redução de features.\n",
    "\n",
    "max_f = 20\n",
    "lista_r2 = list()\n",
    "\n",
    "for i in range(1, max_f+1):\n",
    "  \n",
    "  selector = RFE(modelo_svr, n_features_to_select=i, step=1)\n",
    "  \n",
    "  selector = selector.fit(X_train_sc, y_train)\n",
    "  \n",
    "  mask = selector.support_\n",
    "  \n",
    "  features = X_train_sc.columns\n",
    "  \n",
    "  sel_features = features[mask]\n",
    "\n",
    "  X_sel = X_train_sc[sel_features]\n",
    "  \n",
    "  score = cross_val_score(modelo_svr, X_sel, y_train, cv = 10, scoring = 'neg_root_mean_squared_error')\n",
    "  \n",
    "  lista_r2.append(np.abs(np.mean(score)))\n",
    "  \n",
    "  print('Raiz do erro quadrático médio com', i, 'features:', np.abs(np.mean(score)))\n",
    "\n",
    "# Desenhando o gráfico\n",
    "\n",
    "plt.plot(np.arange(1,21), lista_r2)\n",
    "\n",
    "plt.show()"
   ]
  },
  {
   "cell_type": "code",
   "execution_count": 14,
   "id": "23bdb18a",
   "metadata": {},
   "outputs": [
    {
     "name": "stdout",
     "output_type": "stream",
     "text": [
      "Features escolhidas: Index(['SR_d28', 'NDVI_d01', 'SAVI_d01', 'GNDVI_d01', 'MCARI1_d01', 'SR_d01',\n",
      "       'SAVI_d04', 'SR_d04', 'GNDVI_d08', 'MCARI1_d08', 'SR_d08'],\n",
      "      dtype='object')\n"
     ]
    }
   ],
   "source": [
    "# Selecionar as 11 melhores features\n",
    "\n",
    "selector = RFE(modelo_svr, n_features_to_select = 11, step=1)\n",
    "\n",
    "# Ajuste do modelo\n",
    "selector = selector.fit(X_train_sc, y_train)\n",
    "\n",
    "# Obter a posição das features escolhidas\n",
    "mask = selector.support_\n",
    "\n",
    "# Obter o nome das features escolhidas\n",
    "features = X_train_sc.columns\n",
    "sel_features = features[mask]\n",
    "print('Features escolhidas:', sel_features)"
   ]
  },
  {
   "cell_type": "code",
   "execution_count": 15,
   "id": "67146989",
   "metadata": {},
   "outputs": [
    {
     "name": "stdout",
     "output_type": "stream",
     "text": [
      "0.8576277631327727\n"
     ]
    }
   ],
   "source": [
    "# Medindo a qualidade do modelo (11 features) com validação cruzada\n",
    "\n",
    "X_sel = X_train_sc[sel_features]\n",
    "score = cross_val_score(modelo_svr, X_sel, y_train, cv = 10, scoring = 'r2')\n",
    "print(np.mean(score))"
   ]
  },
  {
   "cell_type": "code",
   "execution_count": 20,
   "id": "b5c85eab",
   "metadata": {},
   "outputs": [
    {
     "name": "stdout",
     "output_type": "stream",
     "text": [
      "Parâmetros ótimos:\n",
      " [0.7477685854264121, 0.2]\n"
     ]
    }
   ],
   "source": [
    "# Otimização dos hiperparâmetros do modelo SVR\n",
    "\n",
    "parametros = [(0.1, 6),\n",
    "             (0.05, 0.2)]\n",
    "\n",
    "# Definindo função\n",
    "\n",
    "def treinar_modelo_svr(parametros):\n",
    "    \n",
    "    modelo_svr = SVR(C = parametros[0], epsilon = parametros[1], kernel='linear')\n",
    "\n",
    "    score = cross_val_score(modelo_svr, X_sel, y_train, \n",
    "                            cv = 10)\n",
    "       \n",
    "    return -np.mean(score)\n",
    "\n",
    "# Rodando a otimização\n",
    "\n",
    "otimos = gp_minimize(treinar_modelo_svr, parametros, random_state = 0, \n",
    "                     verbose = False, n_calls = 50, \n",
    "                     n_random_starts = 10)\n",
    "print('Parâmetros ótimos:\\n', otimos.x)\n",
    "\n",
    "# Ajustando hiperparâmetros do modelo ótimo\n",
    "\n",
    "modelo_svr = SVR(C = otimos.x[0], epsilon = otimos.x[1], kernel='linear')"
   ]
  },
  {
   "cell_type": "code",
   "execution_count": 21,
   "id": "86768e6b-ce56-47f7-9211-6b74ab5ec838",
   "metadata": {},
   "outputs": [
    {
     "data": {
      "text/html": [
       "<style>#sk-container-id-3 {color: black;background-color: white;}#sk-container-id-3 pre{padding: 0;}#sk-container-id-3 div.sk-toggleable {background-color: white;}#sk-container-id-3 label.sk-toggleable__label {cursor: pointer;display: block;width: 100%;margin-bottom: 0;padding: 0.3em;box-sizing: border-box;text-align: center;}#sk-container-id-3 label.sk-toggleable__label-arrow:before {content: \"▸\";float: left;margin-right: 0.25em;color: #696969;}#sk-container-id-3 label.sk-toggleable__label-arrow:hover:before {color: black;}#sk-container-id-3 div.sk-estimator:hover label.sk-toggleable__label-arrow:before {color: black;}#sk-container-id-3 div.sk-toggleable__content {max-height: 0;max-width: 0;overflow: hidden;text-align: left;background-color: #f0f8ff;}#sk-container-id-3 div.sk-toggleable__content pre {margin: 0.2em;color: black;border-radius: 0.25em;background-color: #f0f8ff;}#sk-container-id-3 input.sk-toggleable__control:checked~div.sk-toggleable__content {max-height: 200px;max-width: 100%;overflow: auto;}#sk-container-id-3 input.sk-toggleable__control:checked~label.sk-toggleable__label-arrow:before {content: \"▾\";}#sk-container-id-3 div.sk-estimator input.sk-toggleable__control:checked~label.sk-toggleable__label {background-color: #d4ebff;}#sk-container-id-3 div.sk-label input.sk-toggleable__control:checked~label.sk-toggleable__label {background-color: #d4ebff;}#sk-container-id-3 input.sk-hidden--visually {border: 0;clip: rect(1px 1px 1px 1px);clip: rect(1px, 1px, 1px, 1px);height: 1px;margin: -1px;overflow: hidden;padding: 0;position: absolute;width: 1px;}#sk-container-id-3 div.sk-estimator {font-family: monospace;background-color: #f0f8ff;border: 1px dotted black;border-radius: 0.25em;box-sizing: border-box;margin-bottom: 0.5em;}#sk-container-id-3 div.sk-estimator:hover {background-color: #d4ebff;}#sk-container-id-3 div.sk-parallel-item::after {content: \"\";width: 100%;border-bottom: 1px solid gray;flex-grow: 1;}#sk-container-id-3 div.sk-label:hover label.sk-toggleable__label {background-color: #d4ebff;}#sk-container-id-3 div.sk-serial::before {content: \"\";position: absolute;border-left: 1px solid gray;box-sizing: border-box;top: 0;bottom: 0;left: 50%;z-index: 0;}#sk-container-id-3 div.sk-serial {display: flex;flex-direction: column;align-items: center;background-color: white;padding-right: 0.2em;padding-left: 0.2em;position: relative;}#sk-container-id-3 div.sk-item {position: relative;z-index: 1;}#sk-container-id-3 div.sk-parallel {display: flex;align-items: stretch;justify-content: center;background-color: white;position: relative;}#sk-container-id-3 div.sk-item::before, #sk-container-id-3 div.sk-parallel-item::before {content: \"\";position: absolute;border-left: 1px solid gray;box-sizing: border-box;top: 0;bottom: 0;left: 50%;z-index: -1;}#sk-container-id-3 div.sk-parallel-item {display: flex;flex-direction: column;z-index: 1;position: relative;background-color: white;}#sk-container-id-3 div.sk-parallel-item:first-child::after {align-self: flex-end;width: 50%;}#sk-container-id-3 div.sk-parallel-item:last-child::after {align-self: flex-start;width: 50%;}#sk-container-id-3 div.sk-parallel-item:only-child::after {width: 0;}#sk-container-id-3 div.sk-dashed-wrapped {border: 1px dashed gray;margin: 0 0.4em 0.5em 0.4em;box-sizing: border-box;padding-bottom: 0.4em;background-color: white;}#sk-container-id-3 div.sk-label label {font-family: monospace;font-weight: bold;display: inline-block;line-height: 1.2em;}#sk-container-id-3 div.sk-label-container {text-align: center;}#sk-container-id-3 div.sk-container {/* jupyter's `normalize.less` sets `[hidden] { display: none; }` but bootstrap.min.css set `[hidden] { display: none !important; }` so we also need the `!important` here to be able to override the default hidden behavior on the sphinx rendered scikit-learn.org. See: https://github.com/scikit-learn/scikit-learn/issues/21755 */display: inline-block !important;position: relative;}#sk-container-id-3 div.sk-text-repr-fallback {display: none;}</style><div id=\"sk-container-id-3\" class=\"sk-top-container\"><div class=\"sk-text-repr-fallback\"><pre>SVR(C=0.7477685854264121, epsilon=0.2, kernel=&#x27;linear&#x27;)</pre><b>In a Jupyter environment, please rerun this cell to show the HTML representation or trust the notebook. <br />On GitHub, the HTML representation is unable to render, please try loading this page with nbviewer.org.</b></div><div class=\"sk-container\" hidden><div class=\"sk-item\"><div class=\"sk-estimator sk-toggleable\"><input class=\"sk-toggleable__control sk-hidden--visually\" id=\"sk-estimator-id-3\" type=\"checkbox\" checked><label for=\"sk-estimator-id-3\" class=\"sk-toggleable__label sk-toggleable__label-arrow\">SVR</label><div class=\"sk-toggleable__content\"><pre>SVR(C=0.7477685854264121, epsilon=0.2, kernel=&#x27;linear&#x27;)</pre></div></div></div></div></div>"
      ],
      "text/plain": [
       "SVR(C=0.7477685854264121, epsilon=0.2, kernel='linear')"
      ]
     },
     "execution_count": 21,
     "metadata": {},
     "output_type": "execute_result"
    }
   ],
   "source": [
    "# Realizando o fit do modelo nos dados de treino\n",
    "\n",
    "modelo_svr.fit(X_sel, y_train)"
   ]
  },
  {
   "cell_type": "code",
   "execution_count": 22,
   "id": "d1df9af4",
   "metadata": {},
   "outputs": [
    {
     "name": "stdout",
     "output_type": "stream",
     "text": [
      "RMSE 7.549409799360181\n",
      "MAE 6.316490162041271\n",
      "R2 0.887337985198477\n"
     ]
    },
    {
     "data": {
      "image/png": "[encoded data removed]",
      "text/plain": [
       "<Figure size 640x480 with 1 Axes>"
      ]
     },
     "metadata": {},
     "output_type": "display_data"
    }
   ],
   "source": [
    "# Validação do modelo com dados de teste\n",
    "\n",
    "y_pred = modelo_svr.predict(X_test_sc[sel_features])\n",
    "\n",
    "# Score r2\n",
    "r2 = modelo_svr.score(X_test_sc[sel_features], y_test)\n",
    "\n",
    "# Raiz do erro médio quadratico\n",
    "rmse = (mean_squared_error(y_test, y_pred))**0.5\n",
    "\n",
    "# Erro médio absoluto\n",
    "mae = mean_absolute_error(y_test, y_pred)\n",
    "\n",
    "print(\"RMSE\", rmse)\n",
    "print(\"MAE\", mae)\n",
    "print(\"R2\", r2)\n",
    "\n",
    "\n",
    "plt.scatter(y_test, y_pred)\n",
    "\n",
    "plt.show()\n"
   ]
  },
  {
   "cell_type": "markdown",
   "id": "0e99f4f6",
   "metadata": {
    "tags": []
   },
   "source": [
    "### Modelo K-vizinhos mais próximos\n",
    "- Utilizado a função KNeighborsRegressor da biblioteca sklearn.\n",
    "- Total de features utilizadas: 12\n",
    "- Hiperparâmetros ótimos:\n",
    "\n",
    "    n_neighbors = 5\n",
    "    \n",
    "    weights = 'distance'\n",
    "    \n",
    "    p = 4\n",
    "    \n",
    "- Métricas finais no banco de dados de teste:\n",
    "\n",
    "    RMSE: 6.740755361735086\n",
    "    \n",
    "    MAE: 5.665257021903322\n",
    "    \n",
    "    R2: 0.9101809113157263\n"
   ]
  },
  {
   "cell_type": "code",
   "execution_count": 29,
   "id": "5ae628a4",
   "metadata": {},
   "outputs": [
    {
     "name": "stdout",
     "output_type": "stream",
     "text": [
      "0.9155721886631305\n"
     ]
    }
   ],
   "source": [
    "# Criação do modelo K-neighbors Regressor.\n",
    "\n",
    "modelo_knr = KNeighborsRegressor()\n",
    "\n",
    "# Métrica na validação cruzada com todas as features\n",
    "\n",
    "score = cross_val_score(modelo_knr, X_train_sc, y_train, cv = 10)\n",
    "\n",
    "print(np.mean(score))"
   ]
  },
  {
   "cell_type": "code",
   "execution_count": 24,
   "id": "f4b14338",
   "metadata": {},
   "outputs": [
    {
     "name": "stdout",
     "output_type": "stream",
     "text": [
      "Raiz do erro quadrático médio com 1 features: 10.321780766195019\n",
      "Raiz do erro quadrático médio com 2 features: 9.169559172198692\n",
      "Raiz do erro quadrático médio com 3 features: 8.75010784796853\n",
      "Raiz do erro quadrático médio com 4 features: 8.847811826004243\n",
      "Raiz do erro quadrático médio com 5 features: 9.079866072419799\n",
      "Raiz do erro quadrático médio com 6 features: 9.103119410504668\n",
      "Raiz do erro quadrático médio com 7 features: 8.305668026450979\n",
      "Raiz do erro quadrático médio com 8 features: 8.19939130839084\n",
      "Raiz do erro quadrático médio com 9 features: 8.351199507083958\n",
      "Raiz do erro quadrático médio com 10 features: 6.7202950355507465\n",
      "Raiz do erro quadrático médio com 11 features: 5.974048220003848\n",
      "Raiz do erro quadrático médio com 12 features: 5.851114824226636\n",
      "Raiz do erro quadrático médio com 13 features: 5.9746919679357875\n",
      "Raiz do erro quadrático médio com 14 features: 6.292164943782945\n",
      "Raiz do erro quadrático médio com 15 features: 6.293292920694415\n",
      "Raiz do erro quadrático médio com 16 features: 5.967142545277913\n",
      "Raiz do erro quadrático médio com 17 features: 6.055210289687826\n",
      "Raiz do erro quadrático médio com 18 features: 6.210644724897656\n",
      "Raiz do erro quadrático médio com 19 features: 5.876085733660423\n",
      "Raiz do erro quadrático médio com 20 features: 5.907235808457178\n"
     ]
    },
    {
     "data": {
      "image/png": "[encoded data removed]",
      "text/plain": [
       "<Figure size 640x480 with 1 Axes>"
      ]
     },
     "metadata": {},
     "output_type": "display_data"
    }
   ],
   "source": [
    "# Otimização do modelo com redução de features.\n",
    "\n",
    "max_f = 20\n",
    "lista_r2 = list()\n",
    "\n",
    "for i in range(1, max_f+1):\n",
    "  \n",
    "  selector = SelectKBest(f_regression, k=i)\n",
    "  \n",
    "  X_train_sel = selector.fit_transform(X_train_sc,y_train)\n",
    "  \n",
    "  score = cross_val_score(modelo_knr, X_train_sel, y_train, cv = 10, scoring = 'neg_root_mean_squared_error')\n",
    "  \n",
    "  lista_r2.append(np.abs(np.mean(score)))\n",
    "  \n",
    "  print('Raiz do erro quadrático médio com', i, 'features:', np.abs(np.mean(score)))\n",
    "\n",
    "# Desenhando o gráfico\n",
    "\n",
    "plt.plot(np.arange(1,21), lista_r2)\n",
    "\n",
    "plt.show()"
   ]
  },
  {
   "cell_type": "code",
   "execution_count": 30,
   "id": "ba8083bd",
   "metadata": {},
   "outputs": [
    {
     "name": "stdout",
     "output_type": "stream",
     "text": [
      "Features escolhidas: ['NDVI_d28' 'GNDVI_d28' 'SR_d28' 'NDVI_d04' 'SAVI_d04' 'MCARI1_d04'\n",
      " 'SR_d04' 'NDVI_d08' 'SAVI_d08' 'GNDVI_d08' 'MCARI1_d08' 'SR_d08']\n"
     ]
    }
   ],
   "source": [
    "# Ajuste do banco de dados com as melhores features (12 features)\n",
    "\n",
    "selector = SelectKBest(f_regression, k=12)\n",
    "\n",
    "selector.fit_transform(X_train_sc,y_train)\n",
    "\n",
    "# Obter o nome das features selecionadas\n",
    "\n",
    "features = selector.get_feature_names_out(X_train_sc.columns)\n",
    "print('Features escolhidas:', features)\n"
   ]
  },
  {
   "cell_type": "code",
   "execution_count": 31,
   "id": "65d2b239",
   "metadata": {},
   "outputs": [
    {
     "name": "stdout",
     "output_type": "stream",
     "text": [
      "0.9169151713373802\n"
     ]
    }
   ],
   "source": [
    "# Medindo a qualidade do modelo com validação cruzada para as 12 features\n",
    "\n",
    "score = cross_val_score(modelo_knr, X_train_sc[features], y_train, cv = 10, scoring = 'r2')\n",
    "print(np.mean(score))"
   ]
  },
  {
   "cell_type": "code",
   "execution_count": 35,
   "id": "95427a21",
   "metadata": {},
   "outputs": [
    {
     "name": "stderr",
     "output_type": "stream",
     "text": [
      "C:\\Users\\mbfio\\anaconda3\\lib\\site-packages\\skopt\\optimizer\\optimizer.py:449: UserWarning: The objective has been evaluated at this point before.\n",
      "  warnings.warn(\"The objective has been evaluated \"\n",
      "C:\\Users\\mbfio\\anaconda3\\lib\\site-packages\\skopt\\optimizer\\optimizer.py:449: UserWarning: The objective has been evaluated at this point before.\n",
      "  warnings.warn(\"The objective has been evaluated \"\n",
      "C:\\Users\\mbfio\\anaconda3\\lib\\site-packages\\skopt\\optimizer\\optimizer.py:449: UserWarning: The objective has been evaluated at this point before.\n",
      "  warnings.warn(\"The objective has been evaluated \"\n"
     ]
    },
    {
     "name": "stdout",
     "output_type": "stream",
     "text": [
      "Parâmetros ótimos:\n",
      " [5, 'distance', 4]\n"
     ]
    }
   ],
   "source": [
    "# Grupo de Parâmetros para otimização do modelo KNN\n",
    "\n",
    "parametros = [(1, 15),\n",
    "             ('uniform', 'distance'),\n",
    "             (1, 8)]\n",
    "\n",
    "# Definindo função\n",
    "\n",
    "def treinar_modelo_knr(parametros):\n",
    "    \n",
    "    modelo_knr = KNeighborsRegressor(n_neighbors=parametros[0], \n",
    "                                      weights=parametros[1], \n",
    "                                      p=parametros[2])\n",
    "\n",
    "    score = cross_val_score(modelo_knr, X_train_sc[features], y_train, \n",
    "                            cv = 10)\n",
    "    \n",
    "    return -np.mean(score)\n",
    "\n",
    "# Rodando a otimização\n",
    "\n",
    "otimos = gp_minimize(treinar_modelo_knr, parametros, random_state = 0, \n",
    "                     verbose = False, n_calls = 50, n_random_starts = 10)\n",
    "\n",
    "print('Parâmetros ótimos:\\n',otimos.x)\n",
    "\n",
    "# Ajustando hiperparâmetros do modelo ótimo\n",
    "modelo_knr = KNeighborsRegressor(n_neighbors=otimos.x[0], \n",
    "                                  weights=otimos.x[1], p=otimos.x[2])"
   ]
  },
  {
   "cell_type": "code",
   "execution_count": 36,
   "id": "6711a596",
   "metadata": {},
   "outputs": [
    {
     "data": {
      "text/html": [
       "<style>#sk-container-id-5 {color: black;background-color: white;}#sk-container-id-5 pre{padding: 0;}#sk-container-id-5 div.sk-toggleable {background-color: white;}#sk-container-id-5 label.sk-toggleable__label {cursor: pointer;display: block;width: 100%;margin-bottom: 0;padding: 0.3em;box-sizing: border-box;text-align: center;}#sk-container-id-5 label.sk-toggleable__label-arrow:before {content: \"▸\";float: left;margin-right: 0.25em;color: #696969;}#sk-container-id-5 label.sk-toggleable__label-arrow:hover:before {color: black;}#sk-container-id-5 div.sk-estimator:hover label.sk-toggleable__label-arrow:before {color: black;}#sk-container-id-5 div.sk-toggleable__content {max-height: 0;max-width: 0;overflow: hidden;text-align: left;background-color: #f0f8ff;}#sk-container-id-5 div.sk-toggleable__content pre {margin: 0.2em;color: black;border-radius: 0.25em;background-color: #f0f8ff;}#sk-container-id-5 input.sk-toggleable__control:checked~div.sk-toggleable__content {max-height: 200px;max-width: 100%;overflow: auto;}#sk-container-id-5 input.sk-toggleable__control:checked~label.sk-toggleable__label-arrow:before {content: \"▾\";}#sk-container-id-5 div.sk-estimator input.sk-toggleable__control:checked~label.sk-toggleable__label {background-color: #d4ebff;}#sk-container-id-5 div.sk-label input.sk-toggleable__control:checked~label.sk-toggleable__label {background-color: #d4ebff;}#sk-container-id-5 input.sk-hidden--visually {border: 0;clip: rect(1px 1px 1px 1px);clip: rect(1px, 1px, 1px, 1px);height: 1px;margin: -1px;overflow: hidden;padding: 0;position: absolute;width: 1px;}#sk-container-id-5 div.sk-estimator {font-family: monospace;background-color: #f0f8ff;border: 1px dotted black;border-radius: 0.25em;box-sizing: border-box;margin-bottom: 0.5em;}#sk-container-id-5 div.sk-estimator:hover {background-color: #d4ebff;}#sk-container-id-5 div.sk-parallel-item::after {content: \"\";width: 100%;border-bottom: 1px solid gray;flex-grow: 1;}#sk-container-id-5 div.sk-label:hover label.sk-toggleable__label {background-color: #d4ebff;}#sk-container-id-5 div.sk-serial::before {content: \"\";position: absolute;border-left: 1px solid gray;box-sizing: border-box;top: 0;bottom: 0;left: 50%;z-index: 0;}#sk-container-id-5 div.sk-serial {display: flex;flex-direction: column;align-items: center;background-color: white;padding-right: 0.2em;padding-left: 0.2em;position: relative;}#sk-container-id-5 div.sk-item {position: relative;z-index: 1;}#sk-container-id-5 div.sk-parallel {display: flex;align-items: stretch;justify-content: center;background-color: white;position: relative;}#sk-container-id-5 div.sk-item::before, #sk-container-id-5 div.sk-parallel-item::before {content: \"\";position: absolute;border-left: 1px solid gray;box-sizing: border-box;top: 0;bottom: 0;left: 50%;z-index: -1;}#sk-container-id-5 div.sk-parallel-item {display: flex;flex-direction: column;z-index: 1;position: relative;background-color: white;}#sk-container-id-5 div.sk-parallel-item:first-child::after {align-self: flex-end;width: 50%;}#sk-container-id-5 div.sk-parallel-item:last-child::after {align-self: flex-start;width: 50%;}#sk-container-id-5 div.sk-parallel-item:only-child::after {width: 0;}#sk-container-id-5 div.sk-dashed-wrapped {border: 1px dashed gray;margin: 0 0.4em 0.5em 0.4em;box-sizing: border-box;padding-bottom: 0.4em;background-color: white;}#sk-container-id-5 div.sk-label label {font-family: monospace;font-weight: bold;display: inline-block;line-height: 1.2em;}#sk-container-id-5 div.sk-label-container {text-align: center;}#sk-container-id-5 div.sk-container {/* jupyter's `normalize.less` sets `[hidden] { display: none; }` but bootstrap.min.css set `[hidden] { display: none !important; }` so we also need the `!important` here to be able to override the default hidden behavior on the sphinx rendered scikit-learn.org. See: https://github.com/scikit-learn/scikit-learn/issues/21755 */display: inline-block !important;position: relative;}#sk-container-id-5 div.sk-text-repr-fallback {display: none;}</style><div id=\"sk-container-id-5\" class=\"sk-top-container\"><div class=\"sk-text-repr-fallback\"><pre>KNeighborsRegressor(p=4, weights=&#x27;distance&#x27;)</pre><b>In a Jupyter environment, please rerun this cell to show the HTML representation or trust the notebook. <br />On GitHub, the HTML representation is unable to render, please try loading this page with nbviewer.org.</b></div><div class=\"sk-container\" hidden><div class=\"sk-item\"><div class=\"sk-estimator sk-toggleable\"><input class=\"sk-toggleable__control sk-hidden--visually\" id=\"sk-estimator-id-5\" type=\"checkbox\" checked><label for=\"sk-estimator-id-5\" class=\"sk-toggleable__label sk-toggleable__label-arrow\">KNeighborsRegressor</label><div class=\"sk-toggleable__content\"><pre>KNeighborsRegressor(p=4, weights=&#x27;distance&#x27;)</pre></div></div></div></div></div>"
      ],
      "text/plain": [
       "KNeighborsRegressor(p=4, weights='distance')"
      ]
     },
     "execution_count": 36,
     "metadata": {},
     "output_type": "execute_result"
    }
   ],
   "source": [
    "# Fazendo o fit do modelo final\n",
    "\n",
    "modelo_knr.fit(X_train_sc[features], y_train)\n"
   ]
  },
  {
   "cell_type": "code",
   "execution_count": 37,
   "id": "a15fc25d",
   "metadata": {},
   "outputs": [
    {
     "name": "stdout",
     "output_type": "stream",
     "text": [
      "RMSE 6.740755361735086\n",
      "MAE 5.665257021903322\n",
      "R2 0.9101809113157263\n"
     ]
    },
    {
     "data": {
      "image/png": "[encoded data removed]",
      "text/plain": [
       "<Figure size 640x480 with 1 Axes>"
      ]
     },
     "metadata": {},
     "output_type": "display_data"
    }
   ],
   "source": [
    "# Validação do modelo com dados de teste\n",
    "\n",
    "y_pred = modelo_knr.predict(X_test_sc[features])\n",
    "\n",
    "# Score r2\n",
    "r2 = modelo_knr.score(X_test_sc[features], y_test)\n",
    "\n",
    "# Raiz do erro médio quadratico\n",
    "rmse = (mean_squared_error(y_test, y_pred))**0.5\n",
    "\n",
    "# Erro médio absoluto\n",
    "mae = mean_absolute_error(y_test, y_pred)\n",
    "\n",
    "print(\"RMSE\", rmse)\n",
    "print(\"MAE\", mae)\n",
    "print(\"R2\", r2)\n",
    "\n",
    "\n",
    "plt.scatter(y_test, y_pred)\n",
    "\n",
    "plt.show()\n"
   ]
  },
  {
   "cell_type": "markdown",
   "id": "2c928532",
   "metadata": {
    "tags": []
   },
   "source": [
    "### Modelo de árvore de regressão (Random Forest)\n",
    "\n",
    "- Utilizado a função RandomForestRegressor da biblioteca sklearn.\n",
    "- Total de features utilizadas: 8\n",
    "- Hiperparâmetros ótimos:\n",
    "\n",
    "    criterion = 'poisson'\n",
    "    \n",
    "    n_estimators = 112\n",
    "    \n",
    "    max_depth = 27\n",
    "    \n",
    "    min_samples_split = 3\n",
    "    \n",
    "    min_samples_leaf = 3\n",
    "    \n",
    "    \n",
    "    \n",
    "- Métricas finais no banco de dados de teste:\n",
    "\n",
    "    RMSE 7.108878664593916\n",
    "    \n",
    "    MAE 6.071396553789547\n",
    "    \n",
    "    R2 0.9001027078946373"
   ]
  },
  {
   "cell_type": "code",
   "execution_count": 38,
   "id": "18181000",
   "metadata": {},
   "outputs": [
    {
     "name": "stdout",
     "output_type": "stream",
     "text": [
      "0.8417055072793378\n"
     ]
    }
   ],
   "source": [
    "# Criação do modelo Random Forest Regressor.\n",
    "\n",
    "modelo_rf = RandomForestRegressor(n_estimators=200, max_depth = 10, min_samples_split = 2, \n",
    "                                  min_samples_leaf = 5, random_state = 0)\n",
    "\n",
    "# Métrica na validação cruzada com todas as features\n",
    "\n",
    "score = cross_val_score(modelo_rf, X_train_sc, y_train, cv = 10)\n",
    "\n",
    "print(np.mean(score))"
   ]
  },
  {
   "cell_type": "code",
   "execution_count": 39,
   "id": "2f750737",
   "metadata": {},
   "outputs": [
    {
     "name": "stdout",
     "output_type": "stream",
     "text": [
      "Raiz do erro quadrático médio com 1 features: 10.904085527062014\n",
      "Raiz do erro quadrático médio com 2 features: 9.663412315282935\n",
      "Raiz do erro quadrático médio com 3 features: 9.308898816959783\n",
      "Raiz do erro quadrático médio com 4 features: 9.066635506044843\n",
      "Raiz do erro quadrático médio com 5 features: 8.978950213721278\n",
      "Raiz do erro quadrático médio com 6 features: 7.885333656250291\n",
      "Raiz do erro quadrático médio com 7 features: 7.82298595199301\n",
      "Raiz do erro quadrático médio com 8 features: 7.598875007323078\n",
      "Raiz do erro quadrático médio com 9 features: 7.690320461840081\n",
      "Raiz do erro quadrático médio com 10 features: 7.710568310875777\n",
      "Raiz do erro quadrático médio com 11 features: 7.666194563741895\n",
      "Raiz do erro quadrático médio com 12 features: 7.739912641905856\n",
      "Raiz do erro quadrático médio com 13 features: 7.810129886855842\n",
      "Raiz do erro quadrático médio com 14 features: 7.966613889327358\n",
      "Raiz do erro quadrático médio com 15 features: 7.904536134374507\n",
      "Raiz do erro quadrático médio com 16 features: 7.908696160196326\n",
      "Raiz do erro quadrático médio com 17 features: 7.874897593473347\n",
      "Raiz do erro quadrático médio com 18 features: 7.923058868170314\n",
      "Raiz do erro quadrático médio com 19 features: 7.950674800268326\n",
      "Raiz do erro quadrático médio com 20 features: 7.950217175096142\n"
     ]
    },
    {
     "data": {
      "image/png": "[encoded data removed]",
      "text/plain": [
       "<Figure size 640x480 with 1 Axes>"
      ]
     },
     "metadata": {},
     "output_type": "display_data"
    }
   ],
   "source": [
    "# Otimização do modelo com redução de features.\n",
    "\n",
    "max_f = 20\n",
    "lista_r2 = list()\n",
    "\n",
    "for i in range(1, max_f+1):\n",
    "  \n",
    "  selector = RFE(modelo_rf, n_features_to_select=i, step=1)\n",
    "  \n",
    "  selector = selector.fit(X_train_sc, y_train)\n",
    "  \n",
    "  mask = selector.support_\n",
    "  \n",
    "  features = X_train_sc.columns\n",
    "  \n",
    "  sel_features = features[mask]\n",
    "\n",
    "  X_sel = X_train_sc[sel_features]\n",
    "  \n",
    "  score = cross_val_score(modelo_rf, X_sel, y_train, cv = 10, scoring = 'neg_root_mean_squared_error')\n",
    "  \n",
    "  lista_r2.append(np.abs(np.mean(score)))\n",
    "  \n",
    "  print('Raiz do erro quadrático médio com', i, 'features:', np.abs(np.mean(score)))\n",
    "\n",
    "# Desenhando o gráfico\n",
    "\n",
    "plt.plot(np.arange(1,21), lista_r2)\n",
    "\n",
    "plt.show()"
   ]
  },
  {
   "cell_type": "code",
   "execution_count": 40,
   "id": "345f27fe",
   "metadata": {},
   "outputs": [
    {
     "name": "stdout",
     "output_type": "stream",
     "text": [
      "Features escolhidas: Index(['NDVI_d28', 'GNDVI_d28', 'MCARI1_d04', 'NDVI_d08', 'SAVI_d08',\n",
      "       'GNDVI_d08', 'MCARI1_d08', 'SR_d08'],\n",
      "      dtype='object')\n"
     ]
    }
   ],
   "source": [
    "# Selecionar as 8 melhores features\n",
    "\n",
    "selector = RFE(modelo_rf, n_features_to_select = 8, step=1)\n",
    "\n",
    "# Ajuste do modelo\n",
    "selector = selector.fit(X_train_sc, y_train)\n",
    "\n",
    "# Obter a posição das features escolhidas\n",
    "mask = selector.support_\n",
    "\n",
    "# Obter o nome das features escolhidas\n",
    "features = X_train_sc.columns\n",
    "sel_features = features[mask]\n",
    "print('Features escolhidas:', sel_features)"
   ]
  },
  {
   "cell_type": "code",
   "execution_count": 41,
   "id": "baab9be5",
   "metadata": {},
   "outputs": [
    {
     "name": "stdout",
     "output_type": "stream",
     "text": [
      "0.8531817860006765\n"
     ]
    }
   ],
   "source": [
    "# Medindo a qualidade do modelo (8 features) com validação cruzada\n",
    "\n",
    "X_sel = X_train_sc[sel_features]\n",
    "score = cross_val_score(modelo_rf, X_sel, y_train, cv = 10, scoring = 'r2')\n",
    "print(np.mean(score))"
   ]
  },
  {
   "cell_type": "code",
   "execution_count": 43,
   "id": "c7afb1d8",
   "metadata": {},
   "outputs": [
    {
     "name": "stderr",
     "output_type": "stream",
     "text": [
      "C:\\Users\\mbfio\\anaconda3\\lib\\site-packages\\skopt\\optimizer\\optimizer.py:449: UserWarning: The objective has been evaluated at this point before.\n",
      "  warnings.warn(\"The objective has been evaluated \"\n"
     ]
    },
    {
     "name": "stdout",
     "output_type": "stream",
     "text": [
      "Parâmetros ótimos:\n",
      " ['poisson', 112, 27, 3, 3]\n"
     ]
    }
   ],
   "source": [
    "# Grupo de Parâmetros para otimização do modelo Random Forest\n",
    "\n",
    "parametros = [('squared_error', 'friedman_mse', 'poisson'),\n",
    "             (100, 1000),\n",
    "             (3,30),\n",
    "             (2,12),\n",
    "             (1,10)]\n",
    "\n",
    "# Definindo a função de treino do modelo\n",
    "\n",
    "def treinar_modelo_rf(parametros):\n",
    "    \n",
    "    modelo_rf = RandomForestRegressor(criterion = parametros[0], \n",
    "                                       n_estimators = parametros[1], \n",
    "                                       max_depth = parametros[2], \n",
    "                                       min_samples_split = parametros[3], \n",
    "                                       min_samples_leaf = parametros[4], \n",
    "                                       random_state = 0)\n",
    "    score = cross_val_score(modelo_rf, X_sel, y_train, cv = 10)\n",
    "    \n",
    "    return -np.mean(score)\n",
    "\n",
    "# Rodando a otimização do modelo\n",
    "\n",
    "otimos = gp_minimize(treinar_modelo_rf, parametros, random_state = 0, \n",
    "                     verbose = False, n_calls = 40, n_random_starts = 10)\n",
    "\n",
    "print('Parâmetros ótimos:\\n', otimos.x)\n",
    "\n",
    "# Ajustando hiperparâmetros do modelo ótimo obtido\n",
    "modelo_rf = RandomForestRegressor(criterion = otimos.x[0], \n",
    "                                   n_estimators = otimos.x[1], \n",
    "                                   max_depth = otimos.x[2], \n",
    "                                   min_samples_split = otimos.x[3], \n",
    "                                   min_samples_leaf = otimos.x[4], \n",
    "                                   random_state = 0)"
   ]
  },
  {
   "cell_type": "code",
   "execution_count": 44,
   "id": "548c4474",
   "metadata": {},
   "outputs": [
    {
     "data": {
      "text/html": [
       "<style>#sk-container-id-6 {color: black;background-color: white;}#sk-container-id-6 pre{padding: 0;}#sk-container-id-6 div.sk-toggleable {background-color: white;}#sk-container-id-6 label.sk-toggleable__label {cursor: pointer;display: block;width: 100%;margin-bottom: 0;padding: 0.3em;box-sizing: border-box;text-align: center;}#sk-container-id-6 label.sk-toggleable__label-arrow:before {content: \"▸\";float: left;margin-right: 0.25em;color: #696969;}#sk-container-id-6 label.sk-toggleable__label-arrow:hover:before {color: black;}#sk-container-id-6 div.sk-estimator:hover label.sk-toggleable__label-arrow:before {color: black;}#sk-container-id-6 div.sk-toggleable__content {max-height: 0;max-width: 0;overflow: hidden;text-align: left;background-color: #f0f8ff;}#sk-container-id-6 div.sk-toggleable__content pre {margin: 0.2em;color: black;border-radius: 0.25em;background-color: #f0f8ff;}#sk-container-id-6 input.sk-toggleable__control:checked~div.sk-toggleable__content {max-height: 200px;max-width: 100%;overflow: auto;}#sk-container-id-6 input.sk-toggleable__control:checked~label.sk-toggleable__label-arrow:before {content: \"▾\";}#sk-container-id-6 div.sk-estimator input.sk-toggleable__control:checked~label.sk-toggleable__label {background-color: #d4ebff;}#sk-container-id-6 div.sk-label input.sk-toggleable__control:checked~label.sk-toggleable__label {background-color: #d4ebff;}#sk-container-id-6 input.sk-hidden--visually {border: 0;clip: rect(1px 1px 1px 1px);clip: rect(1px, 1px, 1px, 1px);height: 1px;margin: -1px;overflow: hidden;padding: 0;position: absolute;width: 1px;}#sk-container-id-6 div.sk-estimator {font-family: monospace;background-color: #f0f8ff;border: 1px dotted black;border-radius: 0.25em;box-sizing: border-box;margin-bottom: 0.5em;}#sk-container-id-6 div.sk-estimator:hover {background-color: #d4ebff;}#sk-container-id-6 div.sk-parallel-item::after {content: \"\";width: 100%;border-bottom: 1px solid gray;flex-grow: 1;}#sk-container-id-6 div.sk-label:hover label.sk-toggleable__label {background-color: #d4ebff;}#sk-container-id-6 div.sk-serial::before {content: \"\";position: absolute;border-left: 1px solid gray;box-sizing: border-box;top: 0;bottom: 0;left: 50%;z-index: 0;}#sk-container-id-6 div.sk-serial {display: flex;flex-direction: column;align-items: center;background-color: white;padding-right: 0.2em;padding-left: 0.2em;position: relative;}#sk-container-id-6 div.sk-item {position: relative;z-index: 1;}#sk-container-id-6 div.sk-parallel {display: flex;align-items: stretch;justify-content: center;background-color: white;position: relative;}#sk-container-id-6 div.sk-item::before, #sk-container-id-6 div.sk-parallel-item::before {content: \"\";position: absolute;border-left: 1px solid gray;box-sizing: border-box;top: 0;bottom: 0;left: 50%;z-index: -1;}#sk-container-id-6 div.sk-parallel-item {display: flex;flex-direction: column;z-index: 1;position: relative;background-color: white;}#sk-container-id-6 div.sk-parallel-item:first-child::after {align-self: flex-end;width: 50%;}#sk-container-id-6 div.sk-parallel-item:last-child::after {align-self: flex-start;width: 50%;}#sk-container-id-6 div.sk-parallel-item:only-child::after {width: 0;}#sk-container-id-6 div.sk-dashed-wrapped {border: 1px dashed gray;margin: 0 0.4em 0.5em 0.4em;box-sizing: border-box;padding-bottom: 0.4em;background-color: white;}#sk-container-id-6 div.sk-label label {font-family: monospace;font-weight: bold;display: inline-block;line-height: 1.2em;}#sk-container-id-6 div.sk-label-container {text-align: center;}#sk-container-id-6 div.sk-container {/* jupyter's `normalize.less` sets `[hidden] { display: none; }` but bootstrap.min.css set `[hidden] { display: none !important; }` so we also need the `!important` here to be able to override the default hidden behavior on the sphinx rendered scikit-learn.org. See: https://github.com/scikit-learn/scikit-learn/issues/21755 */display: inline-block !important;position: relative;}#sk-container-id-6 div.sk-text-repr-fallback {display: none;}</style><div id=\"sk-container-id-6\" class=\"sk-top-container\"><div class=\"sk-text-repr-fallback\"><pre>RandomForestRegressor(criterion=&#x27;poisson&#x27;, max_depth=27, min_samples_leaf=3,\n",
       "                      min_samples_split=3, n_estimators=112, random_state=0)</pre><b>In a Jupyter environment, please rerun this cell to show the HTML representation or trust the notebook. <br />On GitHub, the HTML representation is unable to render, please try loading this page with nbviewer.org.</b></div><div class=\"sk-container\" hidden><div class=\"sk-item\"><div class=\"sk-estimator sk-toggleable\"><input class=\"sk-toggleable__control sk-hidden--visually\" id=\"sk-estimator-id-6\" type=\"checkbox\" checked><label for=\"sk-estimator-id-6\" class=\"sk-toggleable__label sk-toggleable__label-arrow\">RandomForestRegressor</label><div class=\"sk-toggleable__content\"><pre>RandomForestRegressor(criterion=&#x27;poisson&#x27;, max_depth=27, min_samples_leaf=3,\n",
       "                      min_samples_split=3, n_estimators=112, random_state=0)</pre></div></div></div></div></div>"
      ],
      "text/plain": [
       "RandomForestRegressor(criterion='poisson', max_depth=27, min_samples_leaf=3,\n",
       "                      min_samples_split=3, n_estimators=112, random_state=0)"
      ]
     },
     "execution_count": 44,
     "metadata": {},
     "output_type": "execute_result"
    }
   ],
   "source": [
    "# Realizando o fit do modelo nos dados de treinamento\n",
    "\n",
    "modelo_rf.fit(X_sel, y_train)\n"
   ]
  },
  {
   "cell_type": "code",
   "execution_count": 45,
   "id": "cc2ba42d",
   "metadata": {},
   "outputs": [
    {
     "name": "stdout",
     "output_type": "stream",
     "text": [
      "RMSE 7.108878664593916\n",
      "MAE 6.071396553789547\n",
      "R2 0.9001027078946373\n"
     ]
    },
    {
     "data": {
      "image/png": "[encoded data removed]",
      "text/plain": [
       "<Figure size 640x480 with 1 Axes>"
      ]
     },
     "metadata": {},
     "output_type": "display_data"
    }
   ],
   "source": [
    "# Validação do modelo com dados de teste\n",
    "\n",
    "y_pred = modelo_rf.predict(X_test_sc[sel_features])\n",
    "\n",
    "# Score r2\n",
    "r2 = modelo_rf.score(X_test_sc[sel_features], y_test)\n",
    "\n",
    "# Raiz do erro médio quadratico\n",
    "rmse = (mean_squared_error(y_test, y_pred))**0.5\n",
    "\n",
    "# Erro médio absoluto\n",
    "mae = mean_absolute_error(y_test, y_pred)\n",
    "\n",
    "print(\"RMSE\", rmse)\n",
    "print(\"MAE\", mae)\n",
    "print(\"R2\", r2)\n",
    "\n",
    "\n",
    "plt.scatter(y_test, y_pred)\n",
    "\n",
    "plt.show()\n"
   ]
  },
  {
   "cell_type": "markdown",
   "id": "78a72030",
   "metadata": {
    "tags": []
   },
   "source": [
    "### Modelo Stochastic Gradient Descent\n",
    "\n",
    "- Utilizado a função RandomForestRegressor da biblioteca sklearn.\n",
    "- Total de features utilizadas: 14\n",
    "- Hiperparâmetros ótimos:\n",
    "\n",
    "    loss = 'squared_error'\n",
    "    \n",
    "    alpha = 0.001\n",
    "    \n",
    "- Métricas finais no banco de dados de teste:\n",
    "\n",
    "    RMSE 7.9617154223605295\n",
    "    \n",
    "    MAE 6.570979333134384\n",
    "    \n",
    "    R2 0.8746960350234616"
   ]
  },
  {
   "cell_type": "code",
   "execution_count": 46,
   "id": "ed8df5f8",
   "metadata": {},
   "outputs": [
    {
     "name": "stdout",
     "output_type": "stream",
     "text": [
      "0.8460368754784984\n"
     ]
    }
   ],
   "source": [
    "# Criação do modelo SGD Regressor\n",
    "\n",
    "modelo_sgd = SGDRegressor(random_state=0)\n",
    "\n",
    "# Métrica na validação cruzada com todas as features\n",
    "\n",
    "score = cross_val_score(modelo_sgd, X_train_sc, y_train, cv = 10)\n",
    "\n",
    "print(np.mean(score))"
   ]
  },
  {
   "cell_type": "code",
   "execution_count": 47,
   "id": "990bb5e7",
   "metadata": {},
   "outputs": [
    {
     "name": "stdout",
     "output_type": "stream",
     "text": [
      "Raiz do erro quadrático médio com 1 features: 12.237032177373067\n",
      "Raiz do erro quadrático médio com 2 features: 9.097632065327712\n",
      "Raiz do erro quadrático médio com 3 features: 8.15710806023775\n",
      "Raiz do erro quadrático médio com 4 features: 7.85731955007829\n",
      "Raiz do erro quadrático médio com 5 features: 7.997948053475929\n",
      "Raiz do erro quadrático médio com 6 features: 7.9391118474806275\n",
      "Raiz do erro quadrático médio com 7 features: 7.901939953978743\n",
      "Raiz do erro quadrático médio com 8 features: 7.878421457512671\n",
      "Raiz do erro quadrático médio com 9 features: 7.875554939568249\n",
      "Raiz do erro quadrático médio com 10 features: 7.725854642920895\n",
      "Raiz do erro quadrático médio com 11 features: 7.736369657799614\n",
      "Raiz do erro quadrático médio com 12 features: 7.74450867787972\n",
      "Raiz do erro quadrático médio com 13 features: 7.726278071129826\n",
      "Raiz do erro quadrático médio com 14 features: 7.712665746833705\n",
      "Raiz do erro quadrático médio com 15 features: 7.749486783629168\n",
      "Raiz do erro quadrático médio com 16 features: 7.818986933676247\n",
      "Raiz do erro quadrático médio com 17 features: 7.907344499456078\n",
      "Raiz do erro quadrático médio com 18 features: 7.90767450859867\n",
      "Raiz do erro quadrático médio com 19 features: 7.929215732763036\n",
      "Raiz do erro quadrático médio com 20 features: 7.974872670391752\n"
     ]
    },
    {
     "data": {
      "image/png": "[encoded data removed]",
      "text/plain": [
       "<Figure size 640x480 with 1 Axes>"
      ]
     },
     "metadata": {},
     "output_type": "display_data"
    }
   ],
   "source": [
    "# Otimização do modelo com redução de features.\n",
    "\n",
    "max_f = 20\n",
    "lista_r2 = list()\n",
    "\n",
    "for i in range(1, max_f+1):\n",
    "  \n",
    "  selector = RFE(modelo_sgd, n_features_to_select=i, step=1)\n",
    "  \n",
    "  selector = selector.fit(X_train_sc, y_train)\n",
    "  \n",
    "  mask = selector.support_\n",
    "  \n",
    "  features = X_train_sc.columns\n",
    "  \n",
    "  sel_features = features[mask]\n",
    "\n",
    "  X_sel = X_train_sc[sel_features]\n",
    "  \n",
    "  score = cross_val_score(modelo_sgd, X_sel, y_train, cv = 10, scoring = 'neg_root_mean_squared_error')\n",
    "  \n",
    "  lista_r2.append(np.abs(np.mean(score)))\n",
    "  \n",
    "  print('Raiz do erro quadrático médio com', i, 'features:', np.abs(np.mean(score)))\n",
    "\n",
    "# Desenhando o gráfico\n",
    "\n",
    "plt.plot(np.arange(1,21), lista_r2)\n",
    "\n",
    "plt.show()"
   ]
  },
  {
   "cell_type": "code",
   "execution_count": 48,
   "id": "efa6948b",
   "metadata": {},
   "outputs": [
    {
     "name": "stdout",
     "output_type": "stream",
     "text": [
      "Features escolhidas: Index(['MCARI1_d28', 'SR_d28', 'NDVI_d01', 'SAVI_d01', 'GNDVI_d01',\n",
      "       'MCARI1_d01', 'SR_d01', 'NDVI_d04', 'SAVI_d04', 'GNDVI_d04', 'SR_d04',\n",
      "       'GNDVI_d08', 'MCARI1_d08', 'SR_d08'],\n",
      "      dtype='object')\n"
     ]
    }
   ],
   "source": [
    "# Selecionar as 14 melhores features\n",
    "\n",
    "selector = RFE(modelo_sgd, n_features_to_select = 14, step=1)\n",
    "\n",
    "# Ajuste do modelo\n",
    "selector = selector.fit(X_train_sc, y_train)\n",
    "\n",
    "# Obter a posição das features escolhidas\n",
    "mask = selector.support_\n",
    "\n",
    "# Obter o nome das features escolhidas\n",
    "features = X_train_sc.columns\n",
    "sel_features = features[mask]\n",
    "print('Features escolhidas:', sel_features)"
   ]
  },
  {
   "cell_type": "code",
   "execution_count": 49,
   "id": "baf2ea93",
   "metadata": {},
   "outputs": [
    {
     "name": "stdout",
     "output_type": "stream",
     "text": [
      "0.8546060463328946\n"
     ]
    }
   ],
   "source": [
    "# Medindo a qualidade do modelo final escolhido (14 features) com validação cruzada\n",
    "\n",
    "X_sel = X_train_sc[sel_features]\n",
    "score = cross_val_score(modelo_sgd, X_sel, y_train, cv = 10, scoring = 'r2')\n",
    "print(np.mean(score))"
   ]
  },
  {
   "cell_type": "code",
   "execution_count": 50,
   "id": "cde2c81b",
   "metadata": {},
   "outputs": [
    {
     "name": "stderr",
     "output_type": "stream",
     "text": [
      "C:\\Users\\mbfio\\anaconda3\\lib\\site-packages\\skopt\\optimizer\\optimizer.py:449: UserWarning: The objective has been evaluated at this point before.\n",
      "  warnings.warn(\"The objective has been evaluated \"\n",
      "C:\\Users\\mbfio\\anaconda3\\lib\\site-packages\\skopt\\optimizer\\optimizer.py:449: UserWarning: The objective has been evaluated at this point before.\n",
      "  warnings.warn(\"The objective has been evaluated \"\n",
      "C:\\Users\\mbfio\\anaconda3\\lib\\site-packages\\skopt\\optimizer\\optimizer.py:449: UserWarning: The objective has been evaluated at this point before.\n",
      "  warnings.warn(\"The objective has been evaluated \"\n",
      "C:\\Users\\mbfio\\anaconda3\\lib\\site-packages\\skopt\\optimizer\\optimizer.py:449: UserWarning: The objective has been evaluated at this point before.\n",
      "  warnings.warn(\"The objective has been evaluated \"\n",
      "C:\\Users\\mbfio\\anaconda3\\lib\\site-packages\\skopt\\optimizer\\optimizer.py:449: UserWarning: The objective has been evaluated at this point before.\n",
      "  warnings.warn(\"The objective has been evaluated \"\n",
      "C:\\Users\\mbfio\\anaconda3\\lib\\site-packages\\skopt\\optimizer\\optimizer.py:449: UserWarning: The objective has been evaluated at this point before.\n",
      "  warnings.warn(\"The objective has been evaluated \"\n",
      "C:\\Users\\mbfio\\anaconda3\\lib\\site-packages\\skopt\\optimizer\\optimizer.py:449: UserWarning: The objective has been evaluated at this point before.\n",
      "  warnings.warn(\"The objective has been evaluated \"\n",
      "C:\\Users\\mbfio\\anaconda3\\lib\\site-packages\\skopt\\optimizer\\optimizer.py:449: UserWarning: The objective has been evaluated at this point before.\n",
      "  warnings.warn(\"The objective has been evaluated \"\n",
      "C:\\Users\\mbfio\\anaconda3\\lib\\site-packages\\skopt\\optimizer\\optimizer.py:449: UserWarning: The objective has been evaluated at this point before.\n",
      "  warnings.warn(\"The objective has been evaluated \"\n",
      "C:\\Users\\mbfio\\anaconda3\\lib\\site-packages\\skopt\\optimizer\\optimizer.py:449: UserWarning: The objective has been evaluated at this point before.\n",
      "  warnings.warn(\"The objective has been evaluated \"\n",
      "C:\\Users\\mbfio\\anaconda3\\lib\\site-packages\\skopt\\optimizer\\optimizer.py:449: UserWarning: The objective has been evaluated at this point before.\n",
      "  warnings.warn(\"The objective has been evaluated \"\n",
      "C:\\Users\\mbfio\\anaconda3\\lib\\site-packages\\skopt\\optimizer\\optimizer.py:449: UserWarning: The objective has been evaluated at this point before.\n",
      "  warnings.warn(\"The objective has been evaluated \"\n",
      "C:\\Users\\mbfio\\anaconda3\\lib\\site-packages\\skopt\\optimizer\\optimizer.py:449: UserWarning: The objective has been evaluated at this point before.\n",
      "  warnings.warn(\"The objective has been evaluated \"\n",
      "C:\\Users\\mbfio\\anaconda3\\lib\\site-packages\\skopt\\optimizer\\optimizer.py:449: UserWarning: The objective has been evaluated at this point before.\n",
      "  warnings.warn(\"The objective has been evaluated \"\n",
      "C:\\Users\\mbfio\\anaconda3\\lib\\site-packages\\skopt\\optimizer\\optimizer.py:449: UserWarning: The objective has been evaluated at this point before.\n",
      "  warnings.warn(\"The objective has been evaluated \"\n",
      "C:\\Users\\mbfio\\anaconda3\\lib\\site-packages\\skopt\\optimizer\\optimizer.py:449: UserWarning: The objective has been evaluated at this point before.\n",
      "  warnings.warn(\"The objective has been evaluated \"\n",
      "C:\\Users\\mbfio\\anaconda3\\lib\\site-packages\\skopt\\optimizer\\optimizer.py:449: UserWarning: The objective has been evaluated at this point before.\n",
      "  warnings.warn(\"The objective has been evaluated \"\n"
     ]
    },
    {
     "name": "stdout",
     "output_type": "stream",
     "text": [
      "Parâmetros ótimos:\n",
      " ['squared_error', 0.001]\n"
     ]
    }
   ],
   "source": [
    "# Grupo de Parâmetros para otimização do modelo SGD\n",
    "\n",
    "parametros = [('squared_error', 'huber', 'epsilon_insensitive'),\n",
    "             (0.0001, 0.001)]\n",
    "\n",
    "# Definindo a função de treino do modelo\n",
    "\n",
    "def treinar_modelo_sgd(parametros):\n",
    "    \n",
    "    modelo_sgd = SGDRegressor(loss = parametros[0], \n",
    "                                       alpha = parametros[1], \n",
    "                                       random_state = 0)\n",
    "    score = cross_val_score(modelo_sgd, X_sel, y_train, cv = 10)\n",
    "    \n",
    "    return -np.mean(score)\n",
    "\n",
    "# Rodando a otimização do modelo\n",
    "\n",
    "otimos = gp_minimize(treinar_modelo_sgd, parametros, random_state = 0, \n",
    "                     verbose = False, n_calls = 40, n_random_starts = 10)\n",
    "\n",
    "print('Parâmetros ótimos:\\n', otimos.x)\n",
    "\n",
    "# Ajustando hiperparâmetros do modelo ótimo obtido\n",
    "modelo_sgd = SGDRegressor(loss = otimos.x[0], \n",
    "                                   alpha = otimos.x[1], \n",
    "                                   random_state = 0)"
   ]
  },
  {
   "cell_type": "code",
   "execution_count": 52,
   "id": "6b4d3238",
   "metadata": {},
   "outputs": [
    {
     "data": {
      "text/html": [
       "<style>#sk-container-id-7 {color: black;background-color: white;}#sk-container-id-7 pre{padding: 0;}#sk-container-id-7 div.sk-toggleable {background-color: white;}#sk-container-id-7 label.sk-toggleable__label {cursor: pointer;display: block;width: 100%;margin-bottom: 0;padding: 0.3em;box-sizing: border-box;text-align: center;}#sk-container-id-7 label.sk-toggleable__label-arrow:before {content: \"▸\";float: left;margin-right: 0.25em;color: #696969;}#sk-container-id-7 label.sk-toggleable__label-arrow:hover:before {color: black;}#sk-container-id-7 div.sk-estimator:hover label.sk-toggleable__label-arrow:before {color: black;}#sk-container-id-7 div.sk-toggleable__content {max-height: 0;max-width: 0;overflow: hidden;text-align: left;background-color: #f0f8ff;}#sk-container-id-7 div.sk-toggleable__content pre {margin: 0.2em;color: black;border-radius: 0.25em;background-color: #f0f8ff;}#sk-container-id-7 input.sk-toggleable__control:checked~div.sk-toggleable__content {max-height: 200px;max-width: 100%;overflow: auto;}#sk-container-id-7 input.sk-toggleable__control:checked~label.sk-toggleable__label-arrow:before {content: \"▾\";}#sk-container-id-7 div.sk-estimator input.sk-toggleable__control:checked~label.sk-toggleable__label {background-color: #d4ebff;}#sk-container-id-7 div.sk-label input.sk-toggleable__control:checked~label.sk-toggleable__label {background-color: #d4ebff;}#sk-container-id-7 input.sk-hidden--visually {border: 0;clip: rect(1px 1px 1px 1px);clip: rect(1px, 1px, 1px, 1px);height: 1px;margin: -1px;overflow: hidden;padding: 0;position: absolute;width: 1px;}#sk-container-id-7 div.sk-estimator {font-family: monospace;background-color: #f0f8ff;border: 1px dotted black;border-radius: 0.25em;box-sizing: border-box;margin-bottom: 0.5em;}#sk-container-id-7 div.sk-estimator:hover {background-color: #d4ebff;}#sk-container-id-7 div.sk-parallel-item::after {content: \"\";width: 100%;border-bottom: 1px solid gray;flex-grow: 1;}#sk-container-id-7 div.sk-label:hover label.sk-toggleable__label {background-color: #d4ebff;}#sk-container-id-7 div.sk-serial::before {content: \"\";position: absolute;border-left: 1px solid gray;box-sizing: border-box;top: 0;bottom: 0;left: 50%;z-index: 0;}#sk-container-id-7 div.sk-serial {display: flex;flex-direction: column;align-items: center;background-color: white;padding-right: 0.2em;padding-left: 0.2em;position: relative;}#sk-container-id-7 div.sk-item {position: relative;z-index: 1;}#sk-container-id-7 div.sk-parallel {display: flex;align-items: stretch;justify-content: center;background-color: white;position: relative;}#sk-container-id-7 div.sk-item::before, #sk-container-id-7 div.sk-parallel-item::before {content: \"\";position: absolute;border-left: 1px solid gray;box-sizing: border-box;top: 0;bottom: 0;left: 50%;z-index: -1;}#sk-container-id-7 div.sk-parallel-item {display: flex;flex-direction: column;z-index: 1;position: relative;background-color: white;}#sk-container-id-7 div.sk-parallel-item:first-child::after {align-self: flex-end;width: 50%;}#sk-container-id-7 div.sk-parallel-item:last-child::after {align-self: flex-start;width: 50%;}#sk-container-id-7 div.sk-parallel-item:only-child::after {width: 0;}#sk-container-id-7 div.sk-dashed-wrapped {border: 1px dashed gray;margin: 0 0.4em 0.5em 0.4em;box-sizing: border-box;padding-bottom: 0.4em;background-color: white;}#sk-container-id-7 div.sk-label label {font-family: monospace;font-weight: bold;display: inline-block;line-height: 1.2em;}#sk-container-id-7 div.sk-label-container {text-align: center;}#sk-container-id-7 div.sk-container {/* jupyter's `normalize.less` sets `[hidden] { display: none; }` but bootstrap.min.css set `[hidden] { display: none !important; }` so we also need the `!important` here to be able to override the default hidden behavior on the sphinx rendered scikit-learn.org. See: https://github.com/scikit-learn/scikit-learn/issues/21755 */display: inline-block !important;position: relative;}#sk-container-id-7 div.sk-text-repr-fallback {display: none;}</style><div id=\"sk-container-id-7\" class=\"sk-top-container\"><div class=\"sk-text-repr-fallback\"><pre>SGDRegressor(alpha=0.001, random_state=0)</pre><b>In a Jupyter environment, please rerun this cell to show the HTML representation or trust the notebook. <br />On GitHub, the HTML representation is unable to render, please try loading this page with nbviewer.org.</b></div><div class=\"sk-container\" hidden><div class=\"sk-item\"><div class=\"sk-estimator sk-toggleable\"><input class=\"sk-toggleable__control sk-hidden--visually\" id=\"sk-estimator-id-7\" type=\"checkbox\" checked><label for=\"sk-estimator-id-7\" class=\"sk-toggleable__label sk-toggleable__label-arrow\">SGDRegressor</label><div class=\"sk-toggleable__content\"><pre>SGDRegressor(alpha=0.001, random_state=0)</pre></div></div></div></div></div>"
      ],
      "text/plain": [
       "SGDRegressor(alpha=0.001, random_state=0)"
      ]
     },
     "execution_count": 52,
     "metadata": {},
     "output_type": "execute_result"
    }
   ],
   "source": [
    "# Realizando o fit do modelo nos dados de treino\n",
    "\n",
    "modelo_sgd.fit(X_sel, y_train)\n"
   ]
  },
  {
   "cell_type": "code",
   "execution_count": 53,
   "id": "c618fd02",
   "metadata": {},
   "outputs": [
    {
     "name": "stdout",
     "output_type": "stream",
     "text": [
      "RMSE 7.9617154223605295\n",
      "MAE 6.570979333134384\n",
      "R2 0.8746960350234616\n"
     ]
    },
    {
     "data": {
      "image/png": "[encoded data removed]",
      "text/plain": [
       "<Figure size 640x480 with 1 Axes>"
      ]
     },
     "metadata": {},
     "output_type": "display_data"
    }
   ],
   "source": [
    "# Validação do modelo com dados de teste\n",
    "\n",
    "y_pred = modelo_sgd.predict(X_test_sc[sel_features])\n",
    "\n",
    "# Score r2\n",
    "r2 = modelo_sgd.score(X_test_sc[sel_features], y_test)\n",
    "\n",
    "# Raiz do erro médio quadratico\n",
    "rmse = (mean_squared_error(y_test, y_pred))**0.5\n",
    "\n",
    "# Erro médio absoluto\n",
    "mae = mean_absolute_error(y_test, y_pred)\n",
    "\n",
    "print(\"RMSE\", rmse)\n",
    "print(\"MAE\", mae)\n",
    "print(\"R2\", r2)\n",
    "\n",
    "\n",
    "plt.scatter(y_test, y_pred)\n",
    "\n",
    "plt.show()\n"
   ]
  },
  {
   "cell_type": "markdown",
   "id": "9740b329-a95a-4a3b-be8a-4e546b20faf3",
   "metadata": {},
   "source": [
    "**Conclusão:**\n",
    "\n",
    "Realizamos a modelagem e otimização de quatro regressores lineares distintos. \n",
    "\n",
    "O melhor resultado obtido foi o modelo que utilizou a técnica **K-vizinhos mais próximos**. \n",
    "\n",
    "Esse modelo obteve a métrica **r2 = 0.9101809113157263** para os dados de teste.\n",
    "\n",
    "Foram utilizadas nesse modelo **12 das 20** features disponíveis. O método de seleção de importância das features foi realizado através da função 'SelectKBest'. Essa função cálcula o nível de importância de cada feature através de uma função de pontuação escolhida. No nosso caso escolhemos a pontuação calculada através da correlação cruzada entre as features e o dado alvo (y)."
   ]
  }
 ],
 "metadata": {
  "kernelspec": {
   "display_name": "Python 3 (ipykernel)",
   "language": "python",
   "name": "python3"
  },
  "language_info": {
   "codemirror_mode": {
    "name": "ipython",
    "version": 3
   },
   "file_extension": ".py",
   "mimetype": "text/x-python",
   "name": "python",
   "nbconvert_exporter": "python",
   "pygments_lexer": "ipython3",
   "version": "3.10.9"
  },
  "varInspector": {
   "cols": {
    "lenName": 16,
    "lenType": 16,
    "lenVar": 40
   },
   "kernels_config": {
    "python": {
     "delete_cmd_postfix": "",
     "delete_cmd_prefix": "del ",
     "library": "var_list.py",
     "varRefreshCmd": "print(var_dic_list())"
    },
    "r": {
     "delete_cmd_postfix": ") ",
     "delete_cmd_prefix": "rm(",
     "library": "var_list.r",
     "varRefreshCmd": "cat(var_dic_list()) "
    }
   },
   "oldHeight": 515.844,
   "position": {
    "height": "537.844px",
    "left": "1041px",
    "right": "20px",
    "top": "118px",
    "width": "541px"
   },
   "types_to_exclude": [
    "module",
    "function",
    "builtin_function_or_method",
    "instance",
    "_Feature"
   ],
   "varInspector_section_display": "block",
   "window_display": false
  }
 },
 "nbformat": 4,
 "nbformat_minor": 5
}
